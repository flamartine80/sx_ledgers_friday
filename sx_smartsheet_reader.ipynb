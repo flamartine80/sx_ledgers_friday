{
 "cells": [
  {
   "cell_type": "code",
   "execution_count": 22,
   "metadata": {
    "collapsed": true
   },
   "outputs": [
    {
     "data": {
      "text/plain": "1       Acquisition\n2               NaN\n3               NaN\n4               NaN\n5               NaN\n           ...     \n3995            NaN\n3996            NaN\n3997            NaN\n3998            NaN\n3999            NaN\nName: Primary, Length: 3999, dtype: object"
     },
     "execution_count": 22,
     "metadata": {},
     "output_type": "execute_result"
    }
   ],
   "source": [
    "import pandas as pd\n",
    "import xlwings as xw\n",
    "import numpy as np\n",
    "# https://stackoverflow.com/questions/72571577/returning-the-location-of-variables-in-a-range-of-a-pandas-dataframe-column-wher\n",
    "pd.set_option('display.max_columns', 1000, 'display.max_rows',1000, 'display.max_colwidth', None)\n",
    "\n",
    "book = xw.Book('GDF Projects Summary_Feb13_2023.xlsx').sheets('GDF Projects Summary').range('a1:f4000').value\n",
    "\n",
    "df = pd.DataFrame(book)\n",
    "df.columns = df.iloc[0]\n",
    "df= df.iloc[1:]\n",
    "# df =df.dropna()\n",
    "primary = df['Primary']\n",
    "# primary=primary.where(primary=='Acquisition')\n",
    "mask_primary =primary.mask(primary !='Acquisition')\n",
    "\n",
    "mask_primary"
   ]
  },
  {
   "cell_type": "code",
   "execution_count": null,
   "outputs": [],
   "source": [
    "# def growth_smartsheet_parser(report_location)\n",
    "# reads_columns\n",
    "#\n",
    "# iloc[0]"
   ],
   "metadata": {
    "collapsed": false,
    "pycharm": {
     "name": "#%%\n"
    }
   }
  }
 ],
 "metadata": {
  "kernelspec": {
   "display_name": "Python 3",
   "language": "python",
   "name": "python3"
  },
  "language_info": {
   "codemirror_mode": {
    "name": "ipython",
    "version": 2
   },
   "file_extension": ".py",
   "mimetype": "text/x-python",
   "name": "python",
   "nbconvert_exporter": "python",
   "pygments_lexer": "ipython2",
   "version": "2.7.6"
  }
 },
 "nbformat": 4,
 "nbformat_minor": 0
}