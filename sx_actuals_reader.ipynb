{
 "cells": [
  {
   "cell_type": "code",
   "execution_count": 45,
   "metadata": {
    "collapsed": true
   },
   "outputs": [],
   "source": [
    "import pandas as pd\n",
    "import xlwings as xw\n",
    "import numpy as np\n",
    "pd.set_option('display.max_columns', 1000, 'display.max_rows',1000, 'display.max_colwidth', None)\n",
    "\n",
    "fileName = '20230131_SX Chile_General Ledger Ene23.xlsx'\n",
    "sheet = 'CW20230213A554'\n",
    "rangeData = 'a1:o40000'\n",
    "\n",
    "# xw.Book(fileName).sheets(sheet).range(rangeData).value\n",
    "#\n",
    "#\n",
    "# d_data = d_book.sheets(d_sheet).range(d_rangeData).value\n",
    "# df_d = pd.DataFrame(d_data)\n",
    "#\n",
    "# #drop unnecesary columns\n",
    "# df_d_2 = df_d.drop([5,6,7,10], axis=1)\n",
    "# df_d_3 = df_d_2[df_d_2[0].str.contains('SALDO ANTERIOR')==False]\n",
    "# df_d_4 = df_d_3.dropna(thresh=2)\n",
    "#\n",
    "# # ACCOUNT NAMES\n",
    "# df_d_accounts = df_d_2[df_d_2[0].str.contains('SALDO ANTERIOR')==True]\n",
    "#\n",
    "# #MAKING ROW ONE THE HEADER\n",
    "# df_d_4.columns = df_d_4.iloc[0]\n",
    "# df_d_4 = df_d_4[1:]\n",
    "#\n",
    "# #DATE PARSING\n",
    "# df_d_4['FECHA']=pd.to_datetime(df_d_4['FECHA'], dayfirst=True)\n",
    "\n"
   ]
  },
  {
   "cell_type": "code",
   "execution_count": 46,
   "outputs": [],
   "source": [
    "# in the def:\n",
    "# def(location, sheet)\n",
    "\n",
    "fileName = '20230131_SX Chile_General Ledger Ene23.xlsx'\n",
    "sheet = 'CW20230213A554'\n",
    "rangeData = 'a1:o40000'\n",
    "\n",
    "def read_PS_actuals(fileName, sheet, rangeData):\n",
    "    data = xw.Book(fileName).sheets(sheet).range(rangeData).value\n",
    "    df = pd.DataFrame(data)\n",
    "    df_2 = df.drop([5,6,7,10], axis=1)\n",
    "    df_3 = df_2[df_2[0].str.contains('SALDO ANTERIOR')==False]\n",
    "    df_4 = df_3.dropna(thresh=2)\n",
    "    df_4.columns = df_4.iloc[0]\n",
    "    df_4 = df_4[1:]\n",
    "    df_4['FECHA']=pd.to_datetime(df_4['FECHA'], dayfirst=True)\n",
    "    return df_4\n",
    "\n",
    "df2 = read_PS_actuals(fileName,sheet,rangeData)"
   ],
   "metadata": {
    "collapsed": false
   }
  },
  {
   "cell_type": "code",
   "execution_count": 47,
   "outputs": [],
   "source": [
    "# def check_false(*args):\n",
    "#     base = list(args)\n",
    "#     condition = all(i == False for i in base)\n",
    "#     if condition == True:\n",
    "#         return True\n",
    "#     else:\n",
    "#         return False\n",
    "#\n",
    "#\n",
    "# def sort_projects(df):\n",
    "#     df['tagua_tagua'  ]   =df['DESCRIPCION'].str.contains('TAGUA TAGUA|taguatagua', case=False)\n",
    "#     df['tres_cruces'  ]   =df['DESCRIPCION'].str.contains('tres cruces', case=False)\n",
    "#     df['andino'  ]        =df['DESCRIPCION'].str.contains('ANDINO', case=False)\n",
    "#     df['storage'  ]       =df['DESCRIPCION'].str.contains('storage', case=False)\n",
    "#     df['pelequen'  ]      =df['DESCRIPCION'].str.contains('pelequen', case=False)\n",
    "#     df['quebrada_Talca' ] =df['DESCRIPCION'].str.contains('talca', case=False)\n",
    "#     df['greenfield'  ]    =df['DESCRIPCION'].str.contains('greenfield', case=False)\n",
    "#     df['domeyko'  ]       =df['DESCRIPCION'].str.contains('domeyko', case=False)\n",
    "#     df['corso'  ]         =df['DESCRIPCION'].str.contains('corso', case=False)\n",
    "#     df['angamos'  ]       =df['DESCRIPCION'].str.contains('angamos', case=False)\n",
    "#     df['santa_Lucia'  ]   =df['DESCRIPCION'].str.contains('santa lucia', case=False)\n",
    "#     df['don_Dario'  ]     =df['DESCRIPCION'].str.contains('don dario', case=False)\n",
    "#     df['Non Projects'] = df.apply(lambda x: check_false(\n",
    "#         x['tagua_tagua'],\n",
    "#         x['tres_cruces'],\n",
    "#         x['andino'],\n",
    "#         x['storage'],\n",
    "#         x['pelequen'],\n",
    "#         x['quebrada_Talca'],\n",
    "#         x['greenfield' ],\n",
    "#         x['domeyko' ],\n",
    "#         x['corso'],\n",
    "#         x['angamos'],\n",
    "#         x['santa_Lucia'],\n",
    "#         x['don_Dario'],\n",
    "#     ), axis=1)\n",
    "#     return df\n",
    "\n",
    "\n",
    "selection  = sort_projects(df)"
   ],
   "metadata": {
    "collapsed": false
   }
  },
  {
   "cell_type": "code",
   "execution_count": 49,
   "outputs": [],
   "source": [
    "# projects = selection[selection['Non Projects'] == False]\n",
    "# projects[projects['tagua_tagua']==True]\n",
    "\n",
    "\n",
    "\n",
    "def assignment(df):\n",
    "\n",
    "    conditions = [\n",
    "    df['DESCRIPCION'].str.contains('TAGUA TAGUA|taguatagua', case=False),\n",
    "    df['DESCRIPCION'].str.contains('tres cruces', case=False),\n",
    "    df['DESCRIPCION'].str.contains('ANDINO', case=False),\n",
    "    df['DESCRIPCION'].str.contains('storage', case=False),\n",
    "    df['DESCRIPCION'].str.contains('pelequen', case=False),\n",
    "    df['DESCRIPCION'].str.contains('talca', case=False),\n",
    "    df['DESCRIPCION'].str.contains('greenfield', case=False),\n",
    "    df['DESCRIPCION'].str.contains('domeyko', case=False),\n",
    "    df['DESCRIPCION'].str.contains('corso', case=False),\n",
    "    df['DESCRIPCION'].str.contains('angamos', case=False),\n",
    "    df['DESCRIPCION'].str.contains('santa lucia', case=False),\n",
    "    df['DESCRIPCION'].str.contains('don dario', case=False)\n",
    "    ]\n",
    "\n",
    "    choices = [\n",
    "    'TAGUA TAGUA',\n",
    "    'TRES CRUCES',\n",
    "    'ANDINO',\n",
    "    'STORAGE',\n",
    "    'PELEQUEN',\n",
    "    'QUEBRADA DE TALCA',\n",
    "    'GREENFIELD',\n",
    "    'DOMEYKO',\n",
    "    'CORSO',\n",
    "    'ANGAMOS',\n",
    "    'SANTA LUCIA',\n",
    "    'DON DARIO',\n",
    "        ]\n",
    "\n",
    "    df['PROJECT'] = np.select(conditions, choices)\n",
    "    return df\n",
    "\n",
    "\n",
    "df3 = assignment(df2)\n",
    "df4 = df3[(df3['PROJECT']=='0')==False]\n",
    "df4.sort_values(by= ['PROJECT'])\n",
    "\n",
    "\n",
    "\n",
    "\n",
    "xw.Book('actuals_sheet.xlsx').sheets('january').range('a1:o5000').value = \"\"\n",
    "xw.Book('actuals_sheet.xlsx').sheets('january').range('a1').value = df4\n",
    "# df3.groupby('PROJECT')['HABER'].sum()"
   ],
   "metadata": {
    "collapsed": false
   }
  },
  {
   "cell_type": "code",
   "execution_count": null,
   "outputs": [],
   "source": [
    "df3"
   ],
   "metadata": {
    "collapsed": false
   }
  }
 ],
 "metadata": {
  "kernelspec": {
   "display_name": "Python 3",
   "language": "python",
   "name": "python3"
  },
  "language_info": {
   "codemirror_mode": {
    "name": "ipython",
    "version": 2
   },
   "file_extension": ".py",
   "mimetype": "text/x-python",
   "name": "python",
   "nbconvert_exporter": "python",
   "pygments_lexer": "ipython2",
   "version": "2.7.6"
  }
 },
 "nbformat": 4,
 "nbformat_minor": 0
}
