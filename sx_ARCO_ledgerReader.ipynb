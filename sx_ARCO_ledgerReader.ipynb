{
 "cells": [
  {
   "cell_type": "code",
   "execution_count": 6,
   "metadata": {
    "collapsed": true
   },
   "outputs": [],
   "source": [
    "import pandas as pd\n",
    "import xlwings as xw\n",
    "import numpy as np\n",
    "pd.set_option('display.max_columns', 1000, 'display.max_rows',1000, 'display.max_colwidth', None)\n",
    "import psycopg2\n",
    "import psycopg2.extras as extras\n",
    "from sqlalchemy import create_engine\n"
   ]
  },
  {
   "cell_type": "code",
   "execution_count": 12,
   "outputs": [
    {
     "data": {
      "text/plain": "0            <class 'str'>\n1       <class 'NoneType'>\n2            <class 'str'>\n3            <class 'str'>\n4            <class 'str'>\n               ...        \n1995    <class 'NoneType'>\n1996    <class 'NoneType'>\n1997    <class 'NoneType'>\n1998    <class 'NoneType'>\n1999    <class 'NoneType'>\nName: 2, Length: 2000, dtype: object"
     },
     "execution_count": 12,
     "metadata": {},
     "output_type": "execute_result"
    }
   ],
   "source": [
    "# consolidaten Librillo books\n",
    "_2023 = xw.Book('Libro mayor Librillo 2023.xls').sheets('Libro mayor Librillo 2023').range('a1:q2000').value\n",
    "# _2022 = xw.Book('Libro mayor Librillo 2022').sheets().range().value\n",
    "# _2021 = xw.Book('Libro mayor Librillo 2021').sheets().range().value\n",
    "\n",
    "\n",
    "df_2023 = pd.DataFrame(_2023)\n",
    "# df_2023[0].apply(type)\n",
    "\n",
    "df_2023[2].apply(type)"
   ],
   "metadata": {
    "collapsed": false
   }
  },
  {
   "cell_type": "code",
   "execution_count": 7,
   "outputs": [],
   "source": [],
   "metadata": {
    "collapsed": false
   }
  }
 ],
 "metadata": {
  "kernelspec": {
   "display_name": "Python 3",
   "language": "python",
   "name": "python3"
  },
  "language_info": {
   "codemirror_mode": {
    "name": "ipython",
    "version": 2
   },
   "file_extension": ".py",
   "mimetype": "text/x-python",
   "name": "python",
   "nbconvert_exporter": "python",
   "pygments_lexer": "ipython2",
   "version": "2.7.6"
  }
 },
 "nbformat": 4,
 "nbformat_minor": 0
}
